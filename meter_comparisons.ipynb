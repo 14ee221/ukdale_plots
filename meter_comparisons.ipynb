{
 "metadata": {
  "name": "",
  "signature": "sha256:a410a1a865af1f4c5eb01feead061bdf171b58e1e17a11daeb04c3961bbce1b9"
 },
 "nbformat": 3,
 "nbformat_minor": 0,
 "worksheets": [
  {
   "cells": [
    {
     "cell_type": "code",
     "collapsed": false,
     "input": [
      "from __future__ import print_function, division\n",
      "from nilmtk import DataSet, TimeFrame, MeterGroup\n",
      "import pandas as pd"
     ],
     "language": "python",
     "metadata": {},
     "outputs": [
      {
       "output_type": "stream",
       "stream": "stdout",
       "text": [
        "Couldn't import dot_parser, loading of dot files will not be possible.\n"
       ]
      }
     ],
     "prompt_number": 1
    },
    {
     "cell_type": "code",
     "collapsed": false,
     "input": [
      "dataset = DataSet('/data/mine/vadeec/merged/ukdale.h5')\n",
      "TZ = dataset.metadata['timezone']\n",
      "elec = dataset.buildings[1].elec"
     ],
     "language": "python",
     "metadata": {},
     "outputs": [],
     "prompt_number": 2
    },
    {
     "cell_type": "heading",
     "level": 2,
     "metadata": {},
     "source": [
      "Find maximum mains power used across all buildings"
     ]
    },
    {
     "cell_type": "code",
     "collapsed": false,
     "input": [
      "maximum = 0.0\n",
      "for building in dataset.buildings.values():\n",
      "    for power in building.elec.mains().power_series():\n",
      "        gen_max = power.max()\n",
      "        if gen_max > maximum:\n",
      "            maximum = gen_max\n",
      "\n",
      "print(maximum)"
     ],
     "language": "python",
     "metadata": {},
     "outputs": [
      {
       "output_type": "stream",
       "stream": "stdout",
       "text": [
        "8765.0\n"
       ]
      }
     ],
     "prompt_number": 7
    },
    {
     "cell_type": "heading",
     "level": 2,
     "metadata": {},
     "source": [
      "Comparison with utility meter"
     ]
    },
    {
     "cell_type": "markdown",
     "metadata": {},
     "source": [
      "We use a time period when the sound card power meter was operational for (almost) the entire time period and for which we have precise utility meter readings.  (all electricity and gas utility meter readings for house 1 are available online.  See the [UK-DALE webpage](http://www.doc.ic.ac.uk/~dk3810/data) for details)"
     ]
    },
    {
     "cell_type": "code",
     "collapsed": false,
     "input": [
      "section = TimeFrame(\"2013-05-22 20:36:00\", \"2014-11-28 08:55:00\", tz=TZ)"
     ],
     "language": "python",
     "metadata": {},
     "outputs": [],
     "prompt_number": 15
    },
    {
     "cell_type": "code",
     "collapsed": false,
     "input": [
      "total_energy = elec.mains().total_energy(sections=[section])"
     ],
     "language": "python",
     "metadata": {},
     "outputs": [
      {
       "output_type": "stream",
       "stream": "stderr",
       "text": [
        "/home/jack/workspace/python/nilmtk/nilmtk/preprocessing/clip.py:50: RuntimeWarning: No measurement limits for ('voltage', '').\n",
        "  warn('No measurement limits for {}.'.format(measurement), RuntimeWarning)\n"
       ]
      }
     ],
     "prompt_number": 16
    },
    {
     "cell_type": "code",
     "collapsed": false,
     "input": [
      "total_energy_from_utility = 53354.50 - 49323.90\n",
      "abs_difference = total_energy['active'] - total_energy_from_utility\n",
      "relative_error = abs_difference / total_energy['active']"
     ],
     "language": "python",
     "metadata": {},
     "outputs": [],
     "prompt_number": 33
    },
    {
     "cell_type": "code",
     "collapsed": false,
     "input": [
      "print(\"Total energy measured by utility meter ={:8.2f} kWh\".format(total_energy_from_utility))\n",
      "print(\"Total (active) energy measured by SCPM ={:8.2f} kWh\".format(total_energy['active']))\n",
      "print(\"                   Absolute difference ={:8.2f} kWh\".format(abs_difference))\n",
      "print(\"                        Relative error = {:8.2%}\".format(relative_error))\n",
      "print(\"                                uptime =\", section.timedelta)"
     ],
     "language": "python",
     "metadata": {},
     "outputs": [
      {
       "output_type": "stream",
       "stream": "stdout",
       "text": [
        "Total energy measured by utility meter = 4030.60 kWh\n",
        "Total (active) energy measured by SCPM = 4142.93 kWh\n",
        "                   Absolute difference =  112.33 kWh\n",
        "                        Relative error =    2.71%\n"
       ]
      }
     ],
     "prompt_number": 35
    },
    {
     "cell_type": "heading",
     "level": 2,
     "metadata": {},
     "source": [
      "Comparison between SCPM and Current Cost site meters for each house"
     ]
    },
    {
     "cell_type": "code",
     "collapsed": false,
     "input": [
      "# dataset.set_window(\"2013-04-01\", \"2013-05-01\") \n",
      "dataset.set_window(None, None) \n",
      "\n",
      "for house_instance in [1,2,5]:\n",
      "    house_elec = dataset.buildings[house_instance].elec\n",
      "    scpm = house_elec.mains()\n",
      "    cc = house_elec.disabled_meters[0]\n",
      "\n",
      "    scpm_good_sections = scpm.good_sections()\n",
      "    cc_good_sections = cc.good_sections()\n",
      "    intersection = scpm_good_sections.intersection(cc_good_sections)\n",
      "    \n",
      "    scpm_energy = scpm.total_energy(sections=intersection, ac_type='apparent')['apparent']\n",
      "    cc_energy = cc.total_energy(sections=intersection)['apparent']\n",
      "    \n",
      "    abs_difference = abs(scpm_energy - cc_energy)\n",
      "    relative_error = abs_difference / max(scpm_energy, cc_energy)\n",
      "    \n",
      "    print(\"******************** House {} **********************\".format(house_instance))\n",
      "    print(\"   Total energy measured by Current Cost ={:8.2f} kWh\".format(cc_energy))\n",
      "    print(\"Total (apparent) energy measured by SCPM ={:8.2f} kWh\".format(scpm_energy))\n",
      "    print(\"                     Absolute difference ={:8.2f} kWh\".format(abs_difference))\n",
      "    print(\"                          Relative error = {:8.2%}\".format(relative_error))\n",
      "    print(\"                     intersection uptime =\", intersection.uptime())\n",
      "    print()"
     ],
     "language": "python",
     "metadata": {},
     "outputs": [
      {
       "output_type": "stream",
       "stream": "stdout",
       "text": [
        "******************** House 1 **********************\n",
        "   Total energy measured by Current Cost = 5569.24 kWh\n",
        "Total (apparent) energy measured by SCPM = 5670.64 kWh\n",
        "                     Absolute difference =  101.40 kWh\n",
        "                          Relative error =    1.79%\n",
        "                     intersection uptime = 637 days 11:31:17.200000\n",
        "******************** House 2 **********************"
       ]
      },
      {
       "output_type": "stream",
       "stream": "stdout",
       "text": [
        "\n",
        "   Total energy measured by Current Cost =  996.89 kWh\n",
        "Total (apparent) energy measured by SCPM = 1075.37 kWh\n",
        "                     Absolute difference =   78.49 kWh\n",
        "                          Relative error =    7.30%\n",
        "                     intersection uptime = 134 days 03:52:55\n",
        "******************** House 5 **********************"
       ]
      },
      {
       "output_type": "stream",
       "stream": "stdout",
       "text": [
        "\n",
        "   Total energy measured by Current Cost = 2176.92 kWh\n",
        "Total (apparent) energy measured by SCPM = 2308.00 kWh\n",
        "                     Absolute difference =  131.09 kWh\n",
        "                          Relative error =    5.68%\n",
        "                     intersection uptime = 131 days 17:15:18.500000\n"
       ]
      }
     ],
     "prompt_number": 3
    },
    {
     "cell_type": "heading",
     "level": 2,
     "metadata": {},
     "source": [
      "16 kHz plots"
     ]
    },
    {
     "cell_type": "markdown",
     "metadata": {},
     "source": [
      "To create the 16 kHz plots I used this utility from [my SCPM repository](https://github.com/JackKelly/snd_card_power_meter/tree/master/scripts):\n",
      "\n",
      "`./plot_flac.py /data/mine/power_measurement_flac/vi-1409774400_092639 --calibration-file=/home/jack/Dropbox/Data/flac/calibration.cfg`\n"
     ]
    },
    {
     "cell_type": "code",
     "collapsed": false,
     "input": [],
     "language": "python",
     "metadata": {},
     "outputs": []
    }
   ],
   "metadata": {}
  }
 ]
}